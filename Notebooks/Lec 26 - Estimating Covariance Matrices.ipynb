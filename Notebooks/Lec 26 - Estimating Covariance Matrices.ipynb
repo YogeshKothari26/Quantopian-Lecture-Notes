{
 "cells": [
  {
   "cell_type": "markdown",
   "metadata": {},
   "source": [
    "# Estimation of Covariance Matrices\n",
    "\n",
    "\n",
    "Volatility has long been a thorn in the side of investors in the market. Successfully measuring volatility would allow for more accurate modeling of the returns and more stable investments leading to greater returns, but forecasting volatility accurately is a difficult problem. \n",
    "\n",
    "## Measuring Volatility\n",
    "\n",
    "Volatility needs to be forward-looking and predictive in order to make smart decisions. Unfortunately, simply taking the historical standard deviation of an individual asset's returns falls short when we take into account need for robustness to the future. When we scale the problem up to the point where we need to forecast the volatility for many assets, it gets even harder.\n",
    "\n",
    "To model how a portfolio overall changes, it is important to look not only at the volatility of each asset in the portfolio, but also at the pairwise covariances of every asset involved. The relationship between two or more assets provides valuable insights and a path towards reduction of overall portfolio volatility. A large number of assets with low covariance would assure they decrease or increase independently of each other. Indepedent assets have less of an impact on our portfolio's volatility as they give us true diversity and help us avoid [position concentration risk](https://www.quantopian.com/lectures/position-concentration-risk).\n",
    "\n",
    "## Covariance\n",
    "\n",
    "In statistics and probability, the covariance is a measure of the joint variability of two random variables. When random variables exhibit similar behavior, there tends to be a high covariance between them. Mathematically, we express the covariance of X with respect to Y as:\n",
    "\n",
    "$$ COV(X, Y) = E[(X - E[X])(Y - E[Y])]$$\n",
    "\n",
    "Notice that if we take the covariance of $X$ with itself, we get:\n",
    "\n",
    "$$ COV(X, X) = E[(X - E[X])(X - E[X])] = E[(X - E[X])^2] = VAR(X) $$\n",
    "\n",
    "We can use covariance to quantify the similarities between different assets in much the same way. If two assets have a high covariance, they will generally behave the same way. Assets with particularly high covariance can essentially replace each other.\n",
    "\n",
    "Covariance matrices form the backbone of Modern Portfolio theory (MPT). MPT focuses on maximizing return for a given level of risk, making essential the methods with which we estimate that risk. We use covariances to quantify the joint risk of assets, forming how we view the risk of an entire portfolio. What is key is that investing in assets that have high pairwise covariances provides little diversification because of how closely their fluctuations are related."
   ]
  },
  {
   "cell_type": "markdown",
   "metadata": {},
   "source": [
    "We can intuitively think of this as how much $Y$ changes when $X$ changes and vice-versa. As such, our covariance value of about 5 could have been anticipated from the definition of the relationship between $X$ and $Y$.\n",
    "\n",
    "Here is a scatterplot between $X$ and $Y$ with a line of best fit down the middle."
   ]
  },
  {
   "cell_type": "markdown",
   "metadata": {},
   "source": [
    "Between the covariance, the linear regression, and our knowledge of how $X$ and $Y$ are related, we can easily assess the relationship between our toy variables. With real data, there are two main complicating factors. The first is that we are exmaining significantly more relationships. The second is that we do not know any of their underlying relationships. These hindrances speak to the benefit of having accurate estimates of covariance matrices."
   ]
  },
  {
   "cell_type": "markdown",
   "metadata": {},
   "source": [
    "## The Covariance Matrix\n",
    "\n",
    "As the number of assets we are curious about increases, so too do the dimensions of the covariance matrix that describes their relationships. If we take the covariance between $N$ assets, we will get out a $N \\times N$ covariance matrix. This allows us to efficiently express the relationships between many arrays at once. As with the simple $2\\times 2$ case, the $i$-th diagonal is the variance of the $i$-th asset and the values at $(i, j)$ and $(j, i)$ refer to the covariance between asset $i$ and asset $j$. We display this with the following notation:\n",
    "\n",
    "$$ \\Sigma = \\left[\\begin{matrix}\n",
    "VAR(X_1) & COV(X_1, X_2) & \\cdots & COV(X_1, X_N) \\\\\n",
    "COV(X_2, X_0) & VAR(X_2) & \\cdots & COV(X_2, X_N) \\\\\n",
    "\\vdots & \\vdots & \\ddots & \\vdots \\\\\n",
    "COV(X_N, X_1) & COV(X_N, X_2) & \\cdots & VAR(X_N)\n",
    "\\end{matrix}\\right] $$  \n",
    "\n",
    "When trying to find the covariance of many assets, it quickly becomes apparent why the matrix notation is more favorable. "
   ]
  },
  {
   "cell_type": "code",
   "execution_count": 17,
   "metadata": {},
   "outputs": [
    {
     "name": "stdout",
     "output_type": "stream",
     "text": [
      "Covariance matrix:\n",
      "          SBUX      AAPL        GS      GILD\n",
      "SBUX  0.000453  0.000330  0.000331  0.000075\n",
      "AAPL  0.000330  0.000739  0.000463  0.000237\n",
      "GS    0.000331  0.000463  0.000533  0.000130\n",
      "GILD  0.000075  0.000237  0.000130  0.000569\n"
     ]
    }
   ],
   "source": [
    "# Four asset example of the covariance matrix.\n",
    "start_date = '2016-01-01'\n",
    "end_date = '2016-02-01'\n",
    "\n",
    "returns = get_pricing(\n",
    "    ['SBUX', 'AAPL', 'GS', 'GILD'],\n",
    "    start_date=start_date,\n",
    "    end_date=end_date,\n",
    "    fields='price'\n",
    ").pct_change()[1:]\n",
    "\n",
    "returns.columns = map(lambda x: x.symbol, returns.columns)\n",
    "\n",
    "print 'Covariance matrix:'\n",
    "print returns.cov()"
   ]
  },
  {
   "cell_type": "markdown",
   "metadata": {},
   "source": [
    "## Why does all this matter?  \n",
    "\n",
    "We measure the covariance of the assets in our portfolio to make sure we have an accurate picture of the risks involved in holding those assets togther. We want to apportion our capital amongst these assets in such a way as to minimize our exposure to the risks associated with each individual asset and to neutralize exposure to systematic risk. This is done through the process of portfolio optimization. Portfolio optimization routines go through exactly this process, finding the appropriate weights for each asset given its risks. Mean-variance optimization, a staple of MPT, does exactly this. \n",
    "\n",
    "Estimating the covariance matrix becomes critical when using methods that rely on it, as we cannot know the true statistical relationships underlying our chosen assets. The stability and accuracy of these estimates are essential to getting stable weights that encapsulate our risks and intentions.\n",
    "\n",
    "Unfortunately, the most obvious way to calculate a covariance matrix estimate, the sample covariance, is notoriously unstable. If we have fewer time observations of our assets than the number of assets ($T < N$), the estimate becomes especially unreliable. The extreme values react more strongly to changes, and as the extreme values of the covariance jump around, our optimizers are perturbed, giving us inconsistent weights. This is a problem when we are trying to make many independent bets on many assets to improve our risk exposures through diversification. Even if we have more time elements than assets that we are trading, we can run into issues, as the time component may span multiple regimes, giving us covariance matrices that are still inaccurate.\n",
    "\n",
    "The solution in many cases is to use a robust formulation of the covariance matrix. If we can estimate a covariance matrix that still captures the relationships between assets and is simultaneously more stable, then we can have more faith in the output of our optimizers. A main way that we handle this is by using some form of a shrinkage estimator."
   ]
  },
  {
   "cell_type": "markdown",
   "metadata": {},
   "source": [
    "# Shrinkage Estimators\n",
    "\n",
    "The concept of shrinkage stems from the need for stable covariance matrices. The basic way we \"shrink\" a matrix is to reduce the extreme values of the sample covariance matrix by pulling them closer to the center. Practically, we take a linear combination of the sample covariance covariance matrix a constant array representing the center.\n",
    "\n",
    "Given a sample covariance matrix, $\\textbf{S}$, the mean variance, $\\mu$, and the shrinkage constant $\\delta$, the shrunk estimated covariance is mathematically defined as:   \n",
    "\n",
    "$$(1 - \\delta)\\textbf{S} + \\delta\\mu\\textbf{1}$$  \n"
   ]
  }
 ],
 "metadata": {
  "kernelspec": {
   "display_name": "Python 3",
   "language": "python",
   "name": "python3"
  },
  "language_info": {
   "codemirror_mode": {
    "name": "ipython",
    "version": 3
   },
   "file_extension": ".py",
   "mimetype": "text/x-python",
   "name": "python",
   "nbconvert_exporter": "python",
   "pygments_lexer": "ipython3",
   "version": "3.6.4"
  }
 },
 "nbformat": 4,
 "nbformat_minor": 2
}
